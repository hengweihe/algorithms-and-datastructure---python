{
 "cells": [
  {
   "cell_type": "markdown",
   "metadata": {},
   "source": [
    "#### 队列"
   ]
  },
  {
   "cell_type": "markdown",
   "metadata": {},
   "source": [
    "队列没有位置的概念，只支持默认方式的元素存入和取出。first in first out"
   ]
  },
  {
   "cell_type": "markdown",
   "metadata": {},
   "source": [
    "ADT Queue：\n",
    "\n",
    "    Queue(self)#创建空队列\n",
    "\n",
    "    is_empty(self)#判断是否为空\n",
    "    \n",
    "    enqueue(self,elem)#入队\n",
    "    \n",
    "    dequeue(self)#出队\n",
    "    \n",
    "    peek(self)#查看最早进入的元素，不删除\n",
    "    "
   ]
  },
  {
   "cell_type": "markdown",
   "metadata": {},
   "source": [
    "#### 5.4.2 队列的链接表实现"
   ]
  },
  {
   "cell_type": "markdown",
   "metadata": {},
   "source": [
    "在链接表中加入尾端指针，就可以两端均支持高效率操作。"
   ]
  },
  {
   "cell_type": "markdown",
   "metadata": {},
   "source": [
    "##### 5.4.3 队列的顺序表实现"
   ]
  },
  {
   "cell_type": "code",
   "execution_count": 3,
   "metadata": {},
   "outputs": [],
   "source": [
    "class SQueue():\n",
    "    def __init__(self,init_len=8):\n",
    "        self._len = init_len #存储区长度\n",
    "        self._elems = [0] * init_len#元素储存\n",
    "        self._head = 0#表头元素下标\n",
    "        self._num = 0#元素个数\n",
    "    \n",
    "    def is_empty(self):\n",
    "        return self._num == 0\n",
    "    \n",
    "    def peek(self):\n",
    "        if self._num == 0:\n",
    "            raise QueueUderflow\n",
    "        return self._elems[self._head]\n",
    "    \n",
    "    def dequeue(self):\n",
    "        if self._num == 0:\n",
    "            raise QueueUderflow\n",
    "        e = self._elems[self._head]\n",
    "        self._head = (self._head + 1) % self._len\n",
    "        self_num -= 1\n",
    "        return e \n",
    "    \n",
    "    def enqueue(self,e):\n",
    "        if self._num == self._len:\n",
    "            self.__extend()\n",
    "        self.elems[(self._head + self._num) %self._len] = e\n",
    "        self._num += 1\n",
    "        \n",
    "    def __extend(self):\n",
    "        old_len = self._len\n",
    "        self._len *= 2\n",
    "        new_elems = [o]*self._len\n",
    "        for i in range(old_len):\n",
    "            new_elems[i] = self._elems[(self._head + i) % old_len] \n",
    "        self._elems,self._head = new_elems,0\n",
    "class QueueUnderflow(ValueError):\n",
    "    pass"
   ]
  },
  {
   "cell_type": "code",
   "execution_count": null,
   "metadata": {},
   "outputs": [],
   "source": []
  }
 ],
 "metadata": {
  "kernelspec": {
   "display_name": "Python 3",
   "language": "python",
   "name": "python3"
  },
  "language_info": {
   "codemirror_mode": {
    "name": "ipython",
    "version": 3
   },
   "file_extension": ".py",
   "mimetype": "text/x-python",
   "name": "python",
   "nbconvert_exporter": "python",
   "pygments_lexer": "ipython3",
   "version": "3.7.0"
  }
 },
 "nbformat": 4,
 "nbformat_minor": 2
}
