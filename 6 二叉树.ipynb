{
 "cells": [
  {
   "cell_type": "markdown",
   "metadata": {},
   "source": [
    "### 第六章 二叉树和树"
   ]
  },
  {
   "cell_type": "markdown",
   "metadata": {},
   "source": [
    "树形结构：\n",
    "- 树根root，唯一的其实结点\n",
    "- 其余结点都只有一个前驱"
   ]
  },
  {
   "cell_type": "markdown",
   "metadata": {},
   "source": [
    "#### 6.1 二叉树：概念和性质"
   ]
  },
  {
   "cell_type": "markdown",
   "metadata": {},
   "source": [
    "二叉树：树中每个结点最多关联到两个后继结点。\n",
    "\n",
    "分为左关联结点，  右关联结点。"
   ]
  },
  {
   "cell_type": "markdown",
   "metadata": {},
   "source": [
    "6.1.1 概念和性质\n",
    "\n",
    "二叉树是一种递归结构\n",
    "\n",
    "基本概念：\n",
    "- 空树\n",
    "- 单点树\n",
    "- 父结点\n",
    "- 子结点\n",
    "- 子孙结点\n",
    "- 树叶结点：两颗子树均空，没有子结点。\n",
    "- 度数：一个结点的子结点个数\n"
   ]
  },
  {
   "cell_type": "markdown",
   "metadata": {},
   "source": [
    "满二叉树，扩充二叉树\n",
    "\n",
    "- 满二叉树：所有分支结点的度数都为2\n",
    "- 扩充二叉树：加入足够多的新叶结点，是原有树的结点变为度数为2. 新增的结点叫做外部结点。"
   ]
  },
  {
   "cell_type": "markdown",
   "metadata": {},
   "source": [
    "完全二叉树：从0层到h-1层的结点都满。如果下一层的结点不满，且所有结点在最左边连续排列。"
   ]
  },
  {
   "cell_type": "markdown",
   "metadata": {},
   "source": [
    "6.1.2 抽象数据类型\n"
   ]
  },
  {
   "cell_type": "markdown",
   "metadata": {},
   "source": [
    "ADT BinTree:\n",
    "    BinTree(self,data,left,right) #构造操作，创建一个新二叉树\n",
    "    is_empty(self)\n",
    "    num_nodes(self)#求二叉树的结点个数\n",
    "    data(self)#获取二叉树根存储的数据\n",
    "    left(self)#获取左子树\n",
    "    right(self)#获取右子树\n",
    "    set_left(self,btree)#用btree取代原来的左子树\n",
    "    set_right(self,btree)#用btree取代原来的右子树\n",
    "    traversal(self) #遍历二叉树中各结点数据的迭代器\n",
    "    forall(self,op)#对二叉树的每个结点的数据执行操作op\n",
    "    "
   ]
  },
  {
   "cell_type": "markdown",
   "metadata": {},
   "source": [
    "遍历\n",
    "- 深度优先遍历：顺着一条路\n",
    "  - 先根序遍历（DLR）:得到先根序列\n",
    "  - 中根序遍历（LDR）\n",
    "  - 后根序遍历（LRD）\n",
    "  \n",
    "- 宽度优先遍历：按层次顺序遍历，得到层次序列\n"
   ]
  },
  {
   "cell_type": "markdown",
   "metadata": {},
   "source": [
    "#### 6.2 二叉树的list实现"
   ]
  },
  {
   "cell_type": "markdown",
   "metadata": {},
   "source": [
    "设计：\n",
    "- 空树用None表示\n",
    "- 非空二叉树用包含三个元素的表[d,l,r]表示\n",
    "- d表示存在根结点的元素\n",
    "- l和r是两颗子树，采用与整个二叉树同样结构的list表示。\n"
   ]
  },
  {
   "cell_type": "code",
   "execution_count": 8,
   "metadata": {},
   "outputs": [],
   "source": [
    "def BinTree(data,left=None,right=None):\n",
    "    return [data,left,right]\n",
    "\n",
    "def is_empty_BinTree(btree):\n",
    "    return btree is none\n",
    "\n",
    "def root(btree):\n",
    "    return btree[0]\n",
    "\n",
    "def left(btree):\n",
    "    return btree[1]\n",
    "\n",
    "def right(btree):\n",
    "    return btree[1]\n",
    "\n",
    "def set_root(btree,data):\n",
    "    btree[0] = data\n",
    "    \n",
    "def set_left(btree,data):\n",
    "    btree[1] = left\n",
    "    \n",
    "def set_right(btree,right):\n",
    "    btree[2] = right"
   ]
  },
  {
   "cell_type": "code",
   "execution_count": 10,
   "metadata": {},
   "outputs": [],
   "source": [
    "#构造一个二叉树\n",
    "t1 = BinTree(2,BinTree(4),BinTree(8))"
   ]
  },
  {
   "cell_type": "code",
   "execution_count": 11,
   "metadata": {},
   "outputs": [
    {
     "data": {
      "text/plain": [
       "[2, [4, None, None], [8, None, None]]"
      ]
     },
     "execution_count": 11,
     "metadata": {},
     "output_type": "execute_result"
    }
   ],
   "source": [
    "t1"
   ]
  },
  {
   "cell_type": "code",
   "execution_count": 14,
   "metadata": {},
   "outputs": [],
   "source": [
    "set_left(left(t1),BinTree(5))"
   ]
  },
  {
   "cell_type": "code",
   "execution_count": 15,
   "metadata": {},
   "outputs": [
    {
     "data": {
      "text/plain": [
       "[2, [4, <function __main__.left(btree)>, None], [8, None, None]]"
      ]
     },
     "execution_count": 15,
     "metadata": {},
     "output_type": "execute_result"
    }
   ],
   "source": [
    "t1"
   ]
  },
  {
   "cell_type": "code",
   "execution_count": null,
   "metadata": {},
   "outputs": [],
   "source": [
    "6.2.2 二叉树的简单应用：表达式树"
   ]
  }
 ],
 "metadata": {
  "kernelspec": {
   "display_name": "Python 3",
   "language": "python",
   "name": "python3"
  },
  "language_info": {
   "codemirror_mode": {
    "name": "ipython",
    "version": 3
   },
   "file_extension": ".py",
   "mimetype": "text/x-python",
   "name": "python",
   "nbconvert_exporter": "python",
   "pygments_lexer": "ipython3",
   "version": "3.7.0"
  }
 },
 "nbformat": 4,
 "nbformat_minor": 2
}
