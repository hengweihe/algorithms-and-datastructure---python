{
 "cells": [
  {
   "cell_type": "markdown",
   "metadata": {},
   "source": [
    "### 第六章 二叉树和树"
   ]
  },
  {
   "cell_type": "markdown",
   "metadata": {},
   "source": [
    "树形结构：\n",
    "- 树根root，唯一的其实结点\n",
    "- 其余结点都只有一个前驱"
   ]
  },
  {
   "cell_type": "markdown",
   "metadata": {},
   "source": [
    "#### 6.1 二叉树：概念和性质"
   ]
  },
  {
   "cell_type": "markdown",
   "metadata": {},
   "source": [
    "二叉树：树中每个结点最多关联到两个后继结点。\n",
    "\n",
    "分为左关联结点，  右关联结点。"
   ]
  },
  {
   "cell_type": "markdown",
   "metadata": {},
   "source": [
    "6.1.1 概念和性质\n",
    "\n",
    "二叉树是一种递归结构\n",
    "\n",
    "基本概念：\n",
    "- 空树\n",
    "- 单点树\n",
    "- 父结点\n",
    "- 子结点\n",
    "- 子孙结点\n",
    "- 树叶结点：两颗子树均空，没有子结点。\n",
    "- 度数：一个结点的子结点个数\n"
   ]
  },
  {
   "cell_type": "markdown",
   "metadata": {},
   "source": [
    "满二叉树，扩充二叉树\n",
    "\n",
    "- 满二叉树：所有分支结点的度数都为2\n",
    "- 扩充二叉树：加入足够多的新叶结点，是原有树的结点变为度数为2. 新增的结点叫做外部结点。"
   ]
  },
  {
   "cell_type": "markdown",
   "metadata": {},
   "source": [
    "完全二叉树：从0层到h-1层的结点都满。如果下一层的结点不满，且所有结点在最左边连续排列。"
   ]
  },
  {
   "cell_type": "markdown",
   "metadata": {},
   "source": [
    "6.1.2 抽象数据类型\n"
   ]
  },
  {
   "cell_type": "markdown",
   "metadata": {},
   "source": [
    "ADT BinTree:\n",
    "    BinTree(self,data,left,right) #构造操作，创建一个新二叉树\n",
    "    is_empty(self)\n",
    "    num_nodes(self)#求二叉树的结点个数\n",
    "    data(self)#获取二叉树根存储的数据\n",
    "    left(self)#获取左子树\n",
    "    right(self)#获取右子树\n",
    "    set_left(self,btree)#用btree取代原来的左子树\n",
    "    set_right(self,btree)#用btree取代原来的右子树\n",
    "    traversal(self) #遍历二叉树中各结点数据的迭代器\n",
    "    forall(self,op)#对二叉树的每个结点的数据执行操作op\n",
    "    "
   ]
  },
  {
   "cell_type": "markdown",
   "metadata": {},
   "source": [
    "遍历\n",
    "- 深度优先遍历：顺着一条路\n",
    "  - 先根序遍历（DLR）:得到先根序列\n",
    "  - 中根序遍历（LDR）\n",
    "  - 后根序遍历（LRD）\n",
    "  \n",
    "- 宽度优先遍历：按层次顺序遍历，得到层次序列\n"
   ]
  },
  {
   "cell_type": "markdown",
   "metadata": {},
   "source": [
    "#### 6.2 二叉树的list实现"
   ]
  },
  {
   "cell_type": "markdown",
   "metadata": {},
   "source": [
    "设计：\n",
    "- 空树用None表示\n",
    "- 非空二叉树用包含三个元素的表[d,l,r]表示\n",
    "- d表示存在根结点的元素\n",
    "- l和r是两颗子树，采用与整个二叉树同样结构的list表示。\n"
   ]
  },
  {
   "cell_type": "code",
   "execution_count": 8,
   "metadata": {},
   "outputs": [],
   "source": [
    "def BinTree(data,left=None,right=None):\n",
    "    return [data,left,right]\n",
    "\n",
    "def is_empty_BinTree(btree):\n",
    "    return btree is none\n",
    "\n",
    "def root(btree):\n",
    "    return btree[0]\n",
    "\n",
    "def left(btree):\n",
    "    return btree[1]\n",
    "\n",
    "def right(btree):\n",
    "    return btree[1]\n",
    "\n",
    "def set_root(btree,data):\n",
    "    btree[0] = data\n",
    "    \n",
    "def set_left(btree,data):\n",
    "    btree[1] = left\n",
    "    \n",
    "def set_right(btree,right):\n",
    "    btree[2] = right"
   ]
  },
  {
   "cell_type": "code",
   "execution_count": 10,
   "metadata": {},
   "outputs": [],
   "source": [
    "#构造一个二叉树\n",
    "t1 = BinTree(2,BinTree(4),BinTree(8))"
   ]
  },
  {
   "cell_type": "code",
   "execution_count": 11,
   "metadata": {},
   "outputs": [
    {
     "data": {
      "text/plain": [
       "[2, [4, None, None], [8, None, None]]"
      ]
     },
     "execution_count": 11,
     "metadata": {},
     "output_type": "execute_result"
    }
   ],
   "source": [
    "t1"
   ]
  },
  {
   "cell_type": "code",
   "execution_count": 14,
   "metadata": {},
   "outputs": [],
   "source": [
    "set_left(left(t1),BinTree(5))"
   ]
  },
  {
   "cell_type": "code",
   "execution_count": 15,
   "metadata": {},
   "outputs": [
    {
     "data": {
      "text/plain": [
       "[2, [4, <function __main__.left(btree)>, None], [8, None, None]]"
      ]
     },
     "execution_count": 15,
     "metadata": {},
     "output_type": "execute_result"
    }
   ],
   "source": [
    "t1"
   ]
  },
  {
   "cell_type": "markdown",
   "metadata": {},
   "source": [
    "6.2.2 二叉树的简单应用：表达式树"
   ]
  },
  {
   "cell_type": "markdown",
   "metadata": {},
   "source": [
    "##### 6.3 优先队列"
   ]
  },
  {
   "cell_type": "markdown",
   "metadata": {},
   "source": [
    "概述：存入其中的每项数据都另外附有一个数值，表示优先度。\n",
    "\n"
   ]
  },
  {
   "cell_type": "markdown",
   "metadata": {},
   "source": [
    "#### 6.3.2基于线性表的实现"
   ]
  },
  {
   "cell_type": "code",
   "execution_count": 9,
   "metadata": {},
   "outputs": [],
   "source": [
    "class PrioQueueError(ValueError):\n",
    "    pass\n",
    "class PrioQue:\n",
    "    def __init__(self,elist=[]):#用可变对象作为默认值是一个危险行为\n",
    "        self._elems = list(elist)\n",
    "        self._elems.sort(reverse=True)\n",
    "    \n",
    "    def enqueue(self,e):\n",
    "        i = len(self._elems) - 1  # 从最后一个元素往前比较\n",
    "        while i >= 0 :\n",
    "            if self._elems[i] <= e:\n",
    "                i -= 1\n",
    "            else:\n",
    "                break\n",
    "        self._elems.insert(i+1,e)  ###这个地方的逻辑，也就是下标。\n",
    "        \n",
    "    def is_empty(self):\n",
    "        return not self._elems\n",
    "    \n",
    "    def peek(self):\n",
    "        if self.is_empty():\n",
    "            raise PrioQueueError('in top')\n",
    "        return self._elems[-1]\n",
    "    \n",
    "    def dequeue(self):\n",
    "        if self.is_empty():\n",
    "            raise PrioQueueError('in pop')\n",
    "        return self._elems.pop()"
   ]
  },
  {
   "cell_type": "markdown",
   "metadata": {},
   "source": [
    "用线性表的缺点：检索和最终插入需要O(n)时间"
   ]
  },
  {
   "cell_type": "markdown",
   "metadata": {},
   "source": [
    "6.3.3树形结构和堆"
   ]
  },
  {
   "cell_type": "markdown",
   "metadata": {},
   "source": [
    "定义：堆就是结点里存储数据的完全二叉树\n",
    "- 小顶堆：小元素在上\n",
    "- 大顶堆：大元素在上\n",
    "\n",
    "- 一个堆中，树根到任何一个叶结点的路径上，各结点的数据按规定的优先关系（非严格）递减。\n",
    "- 最优先元素必定位于二叉树的堆顶。\n",
    "- 位于树中不同路径上的元素，不关心顺序关系。"
   ]
  },
  {
   "cell_type": "markdown",
   "metadata": {},
   "source": [
    "基于堆的优先队列类"
   ]
  },
  {
   "cell_type": "code",
   "execution_count": 19,
   "metadata": {},
   "outputs": [],
   "source": [
    "class PrioQueue:\n",
    "    \n",
    "    def __init__(self,elist=[]):\n",
    "        self._elems = list(elist)\n",
    "        if elist:\n",
    "            self.buildheap()\n",
    "    def is_empty(self):\n",
    "        return not self._elems\n",
    "    \n",
    "    def peek(self):\n",
    "        if self.is_empty():\n",
    "            raise PrioQueueError('in peek')\n",
    "        return self._elems[0]\n",
    "    \n",
    "    def enqueue(self,e):\n",
    "        self._elems.append(None)\n",
    "        self.siftup(e,len(self._elems)-1)\n",
    "        \n",
    "    def siftup(self,e,last):  #向上筛选，当加入一个新元素，不断和父节点的元素比较，形成堆\n",
    "        elems,i,j = self._elems,last,(last-1)//2\n",
    "        while i > 0 and e < elems[j]:\n",
    "            elems[i] = elems[j]\n",
    "            i,j = j,(j-1)//2\n",
    "        elems[i] = e\n",
    "        \n",
    "    def dequeue(self):\n",
    "        if self.is_empty():\n",
    "            raise PrioQueueError('in dequeue')\n",
    "        elems = self._elems\n",
    "        e0 = elems[0]\n",
    "        e = elems.pop()\n",
    "        if len(elems) > 0 :\n",
    "            self.siftdown(e ,0 ,len(elems))\n",
    "        return e0\n",
    "    \n",
    "    def siftdown(self,e,begin,end):\n",
    "        elems,i,j = self._elems,begin,begin*2+1\n",
    "        while j < end:\n",
    "            if j + 1 < end and slems[j+1] < elems[j]:\n",
    "                j += 1\n",
    "            if e < elems[j]:\n",
    "                break\n",
    "            elems[i] = elems[j]\n",
    "            i,j = j ,2*j + 1\n",
    "        elems[i] = e\n",
    "        \n",
    "    def buildhea(self):\n",
    "        end = len(self._elems)\n",
    "        for i in range(end//2,-1,-1):\n",
    "            self.siftdown(self._elems[i],i,end)"
   ]
  },
  {
   "cell_type": "markdown",
   "metadata": {},
   "source": [
    "6.3.5 堆的应用： 堆排序\n",
    "    "
   ]
  },
  {
   "cell_type": "code",
   "execution_count": 28,
   "metadata": {},
   "outputs": [],
   "source": [
    "def heap_sort(elems):\n",
    "    def siftdown(elems,e,begin,end):\n",
    "        i,j = begin,begin * 2 + 1\n",
    "        while j < end :\n",
    "            if j + 1 < end and elems[j+1]<elems[j]:\n",
    "                j += 1\n",
    "            if e < elems[j]:\n",
    "                break\n",
    "            elems[i] = elems[j]\n",
    "            i,j = j,2 *j +1\n",
    "        elems[i] = e\n",
    "        \n",
    "    end = len(elems)\n",
    "    \n",
    "    for i in range(end//2,-1,-1):\n",
    "        siftdown(elems,elems[i],i,end)\n",
    "    \n",
    "    for i in range((end-1),0 ,-1):\n",
    "        e = elems[i]\n",
    "        elems[i] = elems[0]\n",
    "        siftdown(elems,e,0,i)\n",
    "    return elems\n",
    "        "
   ]
  },
  {
   "cell_type": "code",
   "execution_count": 29,
   "metadata": {},
   "outputs": [],
   "source": [
    "a = [1,2,3,6,1,2,76]"
   ]
  },
  {
   "cell_type": "code",
   "execution_count": 30,
   "metadata": {},
   "outputs": [
    {
     "name": "stdout",
     "output_type": "stream",
     "text": [
      "[76, 6, 3, 2, 2, 1, 1]\n"
     ]
    }
   ],
   "source": [
    "print(heap_sort(a))"
   ]
  },
  {
   "cell_type": "code",
   "execution_count": null,
   "metadata": {},
   "outputs": [],
   "source": []
  }
 ],
 "metadata": {
  "kernelspec": {
   "display_name": "Python 3",
   "language": "python",
   "name": "python3"
  },
  "language_info": {
   "codemirror_mode": {
    "name": "ipython",
    "version": 3
   },
   "file_extension": ".py",
   "mimetype": "text/x-python",
   "name": "python",
   "nbconvert_exporter": "python",
   "pygments_lexer": "ipython3",
   "version": "3.7.0"
  }
 },
 "nbformat": 4,
 "nbformat_minor": 2
}
