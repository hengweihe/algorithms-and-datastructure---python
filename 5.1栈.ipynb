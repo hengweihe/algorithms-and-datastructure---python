{
 "cells": [
  {
   "cell_type": "markdown",
   "metadata": {},
   "source": [
    "### 第五章 栈和队列"
   ]
  },
  {
   "cell_type": "markdown",
   "metadata": {},
   "source": [
    "特点：栈和队列只支持数据的存储和访问。\n",
    "\n",
    "1.栈：stack，元素后进先出，Last In First Out.LIFO\n",
    "\n",
    "2.队列：queue，先进先出，First In First Out,FIFO\n",
    "\n"
   ]
  },
  {
   "cell_type": "markdown",
   "metadata": {},
   "source": [
    "##### 5.2 栈：概念和实现"
   ]
  },
  {
   "cell_type": "markdown",
   "metadata": {},
   "source": [
    "5.2.1 抽象数据类型\n",
    "\n",
    "ADT Stack:\n",
    "    Stack(self) #创建空栈\n",
    "    \n",
    "    is_empty(self) #判断栈是否为空，空则返回True\n",
    "    \n",
    "    push(self,elem) #将元素压入栈\n",
    "    \n",
    "    pop(self) #删除栈最后的元素，并将元素返回，通常叫做弹出\n",
    "    \n",
    "    top(self) #获取最后压入的元素，不删除"
   ]
  },
  {
   "cell_type": "markdown",
   "metadata": {},
   "source": [
    "实现：可以用顺序表和链接表实现。\n",
    "顺序表中，以后端作为栈顶。\n",
    "链接表中，以前端作为栈顶"
   ]
  },
  {
   "cell_type": "markdown",
   "metadata": {},
   "source": [
    "###### 5.2.2栈的顺序表实验"
   ]
  },
  {
   "cell_type": "code",
   "execution_count": 4,
   "metadata": {},
   "outputs": [],
   "source": [
    "class SStack():\n",
    "    def __init__(self):\n",
    "        self._elems = []\n",
    "        \n",
    "    def is_empty(self):\n",
    "        return self._elems == []\n",
    "    \n",
    "    def top(self):\n",
    "        if self._elems == []:\n",
    "            raiseStackUnderflor('in SStack.top()')\n",
    "        return self._elems[-1]\n",
    "    \n",
    "    def push(self,elem):\n",
    "        self._elems.append(elem)\n",
    "        \n",
    "    def pop(self):\n",
    "        if self._elems == []:\n",
    "            raise StackUnderflow('in SStack.pop()')\n",
    "    \n",
    "    def pop(self):\n",
    "        if self._elems ==[]:\n",
    "            raise StackUnderflow('in SStack.pop()')\n",
    "        return self._elems.pop()    \n",
    "\n",
    "class StackUnderflow(ValueError):\n",
    "    pass"
   ]
  },
  {
   "cell_type": "markdown",
   "metadata": {},
   "source": [
    "以上栈的实现，均是通过表操作的，也就是[]。"
   ]
  },
  {
   "cell_type": "code",
   "execution_count": 5,
   "metadata": {},
   "outputs": [],
   "source": [
    "st1 = SStack()\n",
    "st1.push(3)\n",
    "st1.push(5)"
   ]
  },
  {
   "cell_type": "code",
   "execution_count": 6,
   "metadata": {},
   "outputs": [
    {
     "name": "stdout",
     "output_type": "stream",
     "text": [
      "5\n",
      "3\n"
     ]
    }
   ],
   "source": [
    "while not st1.is_empty():\n",
    "    print(st1.pop())"
   ]
  },
  {
   "cell_type": "markdown",
   "metadata": {},
   "source": [
    "##### 5.2.3 栈的链接表实现"
   ]
  },
  {
   "cell_type": "markdown",
   "metadata": {},
   "source": [
    "链接表实现的优点：\n",
    "\n",
    "1.顺序表的一次扩大储存需要一次高代价操作，而链接表不需要。\n",
    "\n",
    "2.顺序表需要完成的大块存储区域\n",
    "\n",
    "缺点：\n",
    "1.更多依赖于解释器的储存管理"
   ]
  },
  {
   "cell_type": "code",
   "execution_count": 8,
   "metadata": {},
   "outputs": [],
   "source": [
    "class LStack():\n",
    "    def __init__(self):\n",
    "        self._top = None\n",
    "    \n",
    "    def is_empty(self):\n",
    "        return self._top is None\n",
    "    \n",
    "    def top(self):\n",
    "        if self._top is None:\n",
    "            raise StackUnderflow('in LStack.top()')\n",
    "        return self._top.elem\n",
    "    \n",
    "    def push(self,elem):\n",
    "        self._top = LNode(elem,self._top)\n",
    "    \n",
    "    def pop(self):\n",
    "        if self._top is None:\n",
    "            raise StackUnderflow('in LStack.top()')    \n",
    "        p = self._top\n",
    "        self._top = p.next\n",
    "        return p.elem\n",
    "    \n",
    "class StackUnderflow(ValueError):\n",
    "    pass   \n",
    "class LNode():#链接表的简单实现\n",
    "    def __init__(self,elem,next_=None):\n",
    "        self.elem = elem\n",
    "        self.next = next_\n",
    "        "
   ]
  },
  {
   "cell_type": "code",
   "execution_count": 9,
   "metadata": {},
   "outputs": [],
   "source": [
    "st2 = LStack()\n",
    "st2.push(3)\n",
    "st2.push(5)"
   ]
  },
  {
   "cell_type": "code",
   "execution_count": 10,
   "metadata": {},
   "outputs": [
    {
     "name": "stdout",
     "output_type": "stream",
     "text": [
      "5\n",
      "3\n"
     ]
    }
   ],
   "source": [
    "while not st2.is_empty():\n",
    "    print(st2.pop())"
   ]
  },
  {
   "cell_type": "markdown",
   "metadata": {},
   "source": [
    "5.3.1 简单的应用：\n",
    "\n",
    "1.括号匹配问题"
   ]
  },
  {
   "cell_type": "markdown",
   "metadata": {},
   "source": [
    "###### 5.3.2 栈的应用 背包应用"
   ]
  },
  {
   "cell_type": "code",
   "execution_count": 12,
   "metadata": {},
   "outputs": [],
   "source": [
    "def knap_rec(weight,wlist,n):\n",
    "    if weight == 0 :\n",
    "        return True\n",
    "    if weight < 0 or (weight > 0 and n <1):\n",
    "        return False\n",
    "    if knap_rec(weight-wlist[n-1],wlist,n-1):\n",
    "        print('Item' + str(n) + ':',wlist[n-1])\n",
    "        return True\n",
    "    if knap_rec(weight,wlist,n-1):\n",
    "        return True\n",
    "    else: return False"
   ]
  },
  {
   "cell_type": "code",
   "execution_count": 13,
   "metadata": {},
   "outputs": [
    {
     "ename": "TypeError",
     "evalue": "'int' object is not subscriptable",
     "output_type": "error",
     "traceback": [
      "\u001b[1;31m---------------------------------------------------------------------------\u001b[0m",
      "\u001b[1;31mTypeError\u001b[0m                                 Traceback (most recent call last)",
      "\u001b[1;32m<ipython-input-13-d8dbe580fccb>\u001b[0m in \u001b[0;36m<module>\u001b[1;34m()\u001b[0m\n\u001b[1;32m----> 1\u001b[1;33m \u001b[0mknap_rec\u001b[0m\u001b[1;33m(\u001b[0m\u001b[1;36m100\u001b[0m\u001b[1;33m,\u001b[0m\u001b[1;36m3\u001b[0m\u001b[1;33m,\u001b[0m\u001b[1;36m2\u001b[0m\u001b[1;33m)\u001b[0m\u001b[1;33m\u001b[0m\u001b[0m\n\u001b[0m",
      "\u001b[1;32m<ipython-input-12-ab8538835500>\u001b[0m in \u001b[0;36mknap_rec\u001b[1;34m(weight, wlist, n)\u001b[0m\n\u001b[0;32m      4\u001b[0m     \u001b[1;32mif\u001b[0m \u001b[0mweight\u001b[0m \u001b[1;33m<\u001b[0m \u001b[1;36m0\u001b[0m \u001b[1;32mor\u001b[0m \u001b[1;33m(\u001b[0m\u001b[0mweight\u001b[0m \u001b[1;33m>\u001b[0m \u001b[1;36m0\u001b[0m \u001b[1;32mand\u001b[0m \u001b[0mn\u001b[0m \u001b[1;33m<\u001b[0m\u001b[1;36m1\u001b[0m\u001b[1;33m)\u001b[0m\u001b[1;33m:\u001b[0m\u001b[1;33m\u001b[0m\u001b[0m\n\u001b[0;32m      5\u001b[0m         \u001b[1;32mreturn\u001b[0m \u001b[1;32mFalse\u001b[0m\u001b[1;33m\u001b[0m\u001b[0m\n\u001b[1;32m----> 6\u001b[1;33m     \u001b[1;32mif\u001b[0m \u001b[0mknap_rec\u001b[0m\u001b[1;33m(\u001b[0m\u001b[0mweight\u001b[0m\u001b[1;33m-\u001b[0m\u001b[0mwlist\u001b[0m\u001b[1;33m[\u001b[0m\u001b[0mn\u001b[0m\u001b[1;33m-\u001b[0m\u001b[1;36m1\u001b[0m\u001b[1;33m]\u001b[0m\u001b[1;33m,\u001b[0m\u001b[0mwlist\u001b[0m\u001b[1;33m,\u001b[0m\u001b[0mn\u001b[0m\u001b[1;33m-\u001b[0m\u001b[1;36m1\u001b[0m\u001b[1;33m)\u001b[0m\u001b[1;33m:\u001b[0m\u001b[1;33m\u001b[0m\u001b[0m\n\u001b[0m\u001b[0;32m      7\u001b[0m         \u001b[0mprint\u001b[0m\u001b[1;33m(\u001b[0m\u001b[1;34m'Item'\u001b[0m \u001b[1;33m+\u001b[0m \u001b[0mstr\u001b[0m\u001b[1;33m(\u001b[0m\u001b[0mn\u001b[0m\u001b[1;33m)\u001b[0m \u001b[1;33m+\u001b[0m \u001b[1;34m':'\u001b[0m\u001b[1;33m,\u001b[0m\u001b[0mwlist\u001b[0m\u001b[1;33m[\u001b[0m\u001b[0mn\u001b[0m\u001b[1;33m-\u001b[0m\u001b[1;36m1\u001b[0m\u001b[1;33m]\u001b[0m\u001b[1;33m)\u001b[0m\u001b[1;33m\u001b[0m\u001b[0m\n\u001b[0;32m      8\u001b[0m         \u001b[1;32mreturn\u001b[0m \u001b[1;32mTrue\u001b[0m\u001b[1;33m\u001b[0m\u001b[0m\n",
      "\u001b[1;31mTypeError\u001b[0m: 'int' object is not subscriptable"
     ]
    }
   ],
   "source": []
  },
  {
   "cell_type": "code",
   "execution_count": null,
   "metadata": {},
   "outputs": [],
   "source": []
  }
 ],
 "metadata": {
  "kernelspec": {
   "display_name": "Python 3",
   "language": "python",
   "name": "python3"
  },
  "language_info": {
   "codemirror_mode": {
    "name": "ipython",
    "version": 3
   },
   "file_extension": ".py",
   "mimetype": "text/x-python",
   "name": "python",
   "nbconvert_exporter": "python",
   "pygments_lexer": "ipython3",
   "version": "3.7.0"
  }
 },
 "nbformat": 4,
 "nbformat_minor": 2
}
